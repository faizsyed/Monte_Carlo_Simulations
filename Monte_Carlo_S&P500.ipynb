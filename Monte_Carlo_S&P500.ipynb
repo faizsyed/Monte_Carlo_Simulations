{
 "cells": [
  {
   "cell_type": "markdown",
   "metadata": {},
   "source": [
    "# Monte Carlo Simulation over a S&P500 like equity investment"
   ]
  },
  {
   "cell_type": "markdown",
   "metadata": {},
   "source": [
    "### Starting with 10,000 and investing an additional 10,000 annually, let's find the probability that you will have at least 1,000,000 after 30 years of investing in the S&P 500 ETF"
   ]
  },
  {
   "cell_type": "code",
   "execution_count": 124,
   "metadata": {},
   "outputs": [
    {
     "data": {
      "text/plain": [
       "'en_CA.UTF-8'"
      ]
     },
     "execution_count": 124,
     "metadata": {},
     "output_type": "execute_result"
    }
   ],
   "source": [
    "# 1. import needed libraries, set plots to display in notebook\n",
    "\n",
    "import numpy as np\n",
    "from pandas import DataFrame\n",
    "%matplotlib inline\n",
    "import matplotlib.pyplot as plots\n",
    "\n",
    "# allows currency formatting\n",
    "import locale\n",
    "locale.setlocale(locale.LC_ALL, 'en_CA.UTF-8')\n"
   ]
  },
  {
   "cell_type": "code",
   "execution_count": 125,
   "metadata": {},
   "outputs": [
    {
     "name": "stdout",
     "output_type": "stream",
     "text": [
      "$20,900.00\n",
      "$32,781.00\n",
      "$45,731.29\n",
      "$59,847.11\n",
      "$75,233.35\n",
      "$92,004.35\n",
      "$110,284.74\n",
      "$130,210.36\n",
      "$151,929.30\n",
      "$175,602.93\n",
      "$201,407.20\n",
      "$229,533.85\n",
      "$260,191.89\n",
      "$293,609.16\n",
      "$330,033.99\n",
      "$369,737.05\n",
      "$413,013.38\n",
      "$460,184.58\n",
      "$511,601.20\n",
      "$567,645.30\n",
      "$628,733.38\n",
      "$695,319.39\n",
      "$767,898.13\n",
      "$847,008.96\n",
      "$933,239.77\n",
      "$1,027,231.35\n",
      "$1,129,682.17\n",
      "$1,241,353.56\n",
      "$1,363,075.39\n",
      "$1,495,752.17\n"
     ]
    }
   ],
   "source": [
    "# 2. A traditional savings calculator approach\n",
    "\n",
    "pv = 10000\n",
    "time_horizon = 30\n",
    "i =.09\n",
    "additions = 10000\n",
    "\n",
    "for year in range(time_horizon):\n",
    "    ending = pv * (1+i) + additions\n",
    "    print(locale.currency(ending, grouping=True))\n",
    "    pv = ending\n",
    "\n",
    "\n"
   ]
  },
  {
   "cell_type": "code",
   "execution_count": null,
   "metadata": {},
   "outputs": [],
   "source": []
  },
  {
   "cell_type": "code",
   "execution_count": null,
   "metadata": {},
   "outputs": [],
   "source": []
  },
  {
   "cell_type": "code",
   "execution_count": 126,
   "metadata": {},
   "outputs": [
    {
     "name": "stdout",
     "output_type": "stream",
     "text": [
      "\tReturn     \t\tEnding Value\n",
      "\t0.1866               \t$21,866.49\n",
      "\t0.2086               \t$36,427.06\n",
      "\t0.4614               \t$63,232.75\n",
      "\t0.2304               \t$87,798.45\n",
      "\t-0.2213               \t$78,365.09\n",
      "\t-0.0123               \t$87,399.94\n",
      "\t0.2989               \t$123,525.60\n",
      "\t-0.0319               \t$129,579.57\n",
      "\t0.0061               \t$140,368.10\n",
      "\t0.2063               \t$179,321.46\n",
      "\t0.3757               \t$256,697.10\n",
      "\t-0.0815               \t$245,772.45\n",
      "\t-0.1162               \t$227,219.04\n",
      "\t0.243               \t$292,441.69\n",
      "\t0.0092               \t$305,135.61\n",
      "\t0.2071               \t$378,335.71\n",
      "\t0.0808               \t$418,893.14\n",
      "\t0.1186               \t$478,573.54\n",
      "\t0.1773               \t$573,403.91\n",
      "\t0.3079               \t$759,940.89\n",
      "\t-0.1623               \t$646,617.18\n",
      "\t0.1759               \t$770,352.40\n",
      "\t0.1163               \t$869,926.71\n",
      "\t0.2945               \t$1,136,089.75\n",
      "\t0.1382               \t$1,303,088.27\n",
      "\t0.4332               \t$1,877,607.60\n",
      "\t0.2933               \t$2,438,244.49\n",
      "\t0.1459               \t$2,803,994.55\n",
      "\t0.0732               \t$3,019,369.32\n",
      "\t0.1058               \t$3,348,711.18\n"
     ]
    }
   ],
   "source": [
    "# 3. Generating one possible future value based on market history; I will use 9% expected return with 18% volatility\n",
    "\n",
    "pv = 10000\n",
    "expected_return = .09\n",
    "volatility = .18\n",
    "time_horizon = 30\n",
    "annual_addition = 10000\n",
    "\n",
    "print(\"\\tReturn\", \"\\t\\tEnding Value\".rjust(18))\n",
    "for year in range(time_horizon):\n",
    "    market_return = np.random.normal(expected_return, volatility)\n",
    "    fv = pv * (1 + market_return) + annual_addition\n",
    "    print(\"\\t{}\".ljust(10).format(round(market_return,4)), \"\\t{}\".rjust(10).format(locale.currency(fv, grouping=True)))\n",
    "    pv = fv\n",
    "\n"
   ]
  },
  {
   "cell_type": "code",
   "execution_count": 127,
   "metadata": {},
   "outputs": [],
   "source": [
    "# 4. Simulate portfolio ending market values \n",
    "\n",
    "sim = DataFrame()\n",
    "iterations = 5000\n",
    "\n",
    "\n",
    "for x in range(iterations):\n",
    "    expected_return = .09\n",
    "    volatility = .18\n",
    "    time_horizon = 30\n",
    "    pv = 10000\n",
    "    annual_investment = 10000\n",
    "    stream = []\n",
    "    for i in range(time_horizon):\n",
    "        end = round(pv * (1 + np.random.normal(expected_return,volatility)) + annual_investment,2)\n",
    "        \n",
    "        stream.append(end)\n",
    "\n",
    "        pv = end\n",
    "\n",
    "    \n",
    "    sim[x] = stream\n"
   ]
  },
  {
   "cell_type": "code",
   "execution_count": null,
   "metadata": {},
   "outputs": [],
   "source": []
  },
  {
   "cell_type": "code",
   "execution_count": 128,
   "metadata": {},
   "outputs": [
    {
     "data": {
      "text/html": [
       "<div>\n",
       "<style scoped>\n",
       "    .dataframe tbody tr th:only-of-type {\n",
       "        vertical-align: middle;\n",
       "    }\n",
       "\n",
       "    .dataframe tbody tr th {\n",
       "        vertical-align: top;\n",
       "    }\n",
       "\n",
       "    .dataframe thead th {\n",
       "        text-align: right;\n",
       "    }\n",
       "</style>\n",
       "<table border=\"1\" class=\"dataframe\">\n",
       "  <thead>\n",
       "    <tr style=\"text-align: right;\">\n",
       "      <th></th>\n",
       "      <th>0</th>\n",
       "      <th>1</th>\n",
       "      <th>2</th>\n",
       "      <th>3</th>\n",
       "      <th>4</th>\n",
       "    </tr>\n",
       "  </thead>\n",
       "  <tbody>\n",
       "    <tr>\n",
       "      <th>0</th>\n",
       "      <td>21146.44</td>\n",
       "      <td>19077.35</td>\n",
       "      <td>20401.81</td>\n",
       "      <td>19925.16</td>\n",
       "      <td>20468.03</td>\n",
       "    </tr>\n",
       "    <tr>\n",
       "      <th>1</th>\n",
       "      <td>34364.62</td>\n",
       "      <td>35050.54</td>\n",
       "      <td>30124.42</td>\n",
       "      <td>37633.09</td>\n",
       "      <td>28588.37</td>\n",
       "    </tr>\n",
       "    <tr>\n",
       "      <th>2</th>\n",
       "      <td>56704.94</td>\n",
       "      <td>63543.16</td>\n",
       "      <td>44912.39</td>\n",
       "      <td>54026.29</td>\n",
       "      <td>47781.46</td>\n",
       "    </tr>\n",
       "    <tr>\n",
       "      <th>3</th>\n",
       "      <td>61855.34</td>\n",
       "      <td>82416.39</td>\n",
       "      <td>47945.34</td>\n",
       "      <td>52626.74</td>\n",
       "      <td>76332.35</td>\n",
       "    </tr>\n",
       "    <tr>\n",
       "      <th>4</th>\n",
       "      <td>61020.90</td>\n",
       "      <td>85762.78</td>\n",
       "      <td>63243.08</td>\n",
       "      <td>68860.21</td>\n",
       "      <td>84128.86</td>\n",
       "    </tr>\n",
       "    <tr>\n",
       "      <th>5</th>\n",
       "      <td>84717.35</td>\n",
       "      <td>108559.50</td>\n",
       "      <td>77064.95</td>\n",
       "      <td>89367.41</td>\n",
       "      <td>79395.24</td>\n",
       "    </tr>\n",
       "    <tr>\n",
       "      <th>6</th>\n",
       "      <td>93270.40</td>\n",
       "      <td>143387.67</td>\n",
       "      <td>96673.50</td>\n",
       "      <td>119980.42</td>\n",
       "      <td>105476.55</td>\n",
       "    </tr>\n",
       "    <tr>\n",
       "      <th>7</th>\n",
       "      <td>100354.48</td>\n",
       "      <td>125380.60</td>\n",
       "      <td>132329.99</td>\n",
       "      <td>122988.24</td>\n",
       "      <td>108107.87</td>\n",
       "    </tr>\n",
       "    <tr>\n",
       "      <th>8</th>\n",
       "      <td>109448.85</td>\n",
       "      <td>164187.37</td>\n",
       "      <td>134010.89</td>\n",
       "      <td>126547.00</td>\n",
       "      <td>118295.03</td>\n",
       "    </tr>\n",
       "    <tr>\n",
       "      <th>9</th>\n",
       "      <td>102246.73</td>\n",
       "      <td>180210.70</td>\n",
       "      <td>176394.78</td>\n",
       "      <td>187281.94</td>\n",
       "      <td>142688.16</td>\n",
       "    </tr>\n",
       "    <tr>\n",
       "      <th>10</th>\n",
       "      <td>115552.81</td>\n",
       "      <td>197530.86</td>\n",
       "      <td>126939.43</td>\n",
       "      <td>243298.74</td>\n",
       "      <td>144397.51</td>\n",
       "    </tr>\n",
       "    <tr>\n",
       "      <th>11</th>\n",
       "      <td>143465.95</td>\n",
       "      <td>153780.66</td>\n",
       "      <td>161249.52</td>\n",
       "      <td>261261.97</td>\n",
       "      <td>163557.57</td>\n",
       "    </tr>\n",
       "    <tr>\n",
       "      <th>12</th>\n",
       "      <td>212214.27</td>\n",
       "      <td>216256.14</td>\n",
       "      <td>209289.35</td>\n",
       "      <td>357428.17</td>\n",
       "      <td>200377.69</td>\n",
       "    </tr>\n",
       "    <tr>\n",
       "      <th>13</th>\n",
       "      <td>313253.54</td>\n",
       "      <td>191116.70</td>\n",
       "      <td>204075.26</td>\n",
       "      <td>352812.83</td>\n",
       "      <td>297804.06</td>\n",
       "    </tr>\n",
       "    <tr>\n",
       "      <th>14</th>\n",
       "      <td>334258.75</td>\n",
       "      <td>216823.63</td>\n",
       "      <td>247181.97</td>\n",
       "      <td>428614.63</td>\n",
       "      <td>310042.47</td>\n",
       "    </tr>\n",
       "    <tr>\n",
       "      <th>15</th>\n",
       "      <td>468874.04</td>\n",
       "      <td>233641.92</td>\n",
       "      <td>214907.48</td>\n",
       "      <td>526634.01</td>\n",
       "      <td>406805.15</td>\n",
       "    </tr>\n",
       "    <tr>\n",
       "      <th>16</th>\n",
       "      <td>664509.12</td>\n",
       "      <td>215933.59</td>\n",
       "      <td>267344.70</td>\n",
       "      <td>641046.72</td>\n",
       "      <td>487729.17</td>\n",
       "    </tr>\n",
       "    <tr>\n",
       "      <th>17</th>\n",
       "      <td>861952.73</td>\n",
       "      <td>226765.82</td>\n",
       "      <td>382330.72</td>\n",
       "      <td>497236.57</td>\n",
       "      <td>446186.18</td>\n",
       "    </tr>\n",
       "    <tr>\n",
       "      <th>18</th>\n",
       "      <td>819724.14</td>\n",
       "      <td>283367.02</td>\n",
       "      <td>410259.35</td>\n",
       "      <td>553746.20</td>\n",
       "      <td>524239.56</td>\n",
       "    </tr>\n",
       "    <tr>\n",
       "      <th>19</th>\n",
       "      <td>1062562.63</td>\n",
       "      <td>294800.32</td>\n",
       "      <td>538784.84</td>\n",
       "      <td>682711.47</td>\n",
       "      <td>613317.81</td>\n",
       "    </tr>\n",
       "    <tr>\n",
       "      <th>20</th>\n",
       "      <td>1176677.01</td>\n",
       "      <td>180973.71</td>\n",
       "      <td>680642.73</td>\n",
       "      <td>706719.65</td>\n",
       "      <td>675497.80</td>\n",
       "    </tr>\n",
       "    <tr>\n",
       "      <th>21</th>\n",
       "      <td>1331490.55</td>\n",
       "      <td>232471.26</td>\n",
       "      <td>678740.95</td>\n",
       "      <td>776523.20</td>\n",
       "      <td>874252.17</td>\n",
       "    </tr>\n",
       "    <tr>\n",
       "      <th>22</th>\n",
       "      <td>1441182.07</td>\n",
       "      <td>236243.30</td>\n",
       "      <td>912784.14</td>\n",
       "      <td>960870.93</td>\n",
       "      <td>1216249.55</td>\n",
       "    </tr>\n",
       "    <tr>\n",
       "      <th>23</th>\n",
       "      <td>1421474.64</td>\n",
       "      <td>293201.72</td>\n",
       "      <td>1052518.09</td>\n",
       "      <td>1112301.35</td>\n",
       "      <td>1224204.53</td>\n",
       "    </tr>\n",
       "    <tr>\n",
       "      <th>24</th>\n",
       "      <td>1585656.08</td>\n",
       "      <td>294060.62</td>\n",
       "      <td>1281090.21</td>\n",
       "      <td>1115714.52</td>\n",
       "      <td>1434683.87</td>\n",
       "    </tr>\n",
       "    <tr>\n",
       "      <th>25</th>\n",
       "      <td>1624916.84</td>\n",
       "      <td>289130.83</td>\n",
       "      <td>729444.46</td>\n",
       "      <td>1501325.15</td>\n",
       "      <td>1891384.59</td>\n",
       "    </tr>\n",
       "    <tr>\n",
       "      <th>26</th>\n",
       "      <td>1688788.33</td>\n",
       "      <td>370293.10</td>\n",
       "      <td>861325.11</td>\n",
       "      <td>1758106.83</td>\n",
       "      <td>1532932.66</td>\n",
       "    </tr>\n",
       "    <tr>\n",
       "      <th>27</th>\n",
       "      <td>1302823.27</td>\n",
       "      <td>348938.66</td>\n",
       "      <td>1059684.03</td>\n",
       "      <td>1801698.57</td>\n",
       "      <td>2253084.63</td>\n",
       "    </tr>\n",
       "    <tr>\n",
       "      <th>28</th>\n",
       "      <td>1522404.74</td>\n",
       "      <td>432334.92</td>\n",
       "      <td>950195.39</td>\n",
       "      <td>1810099.80</td>\n",
       "      <td>3003979.96</td>\n",
       "    </tr>\n",
       "    <tr>\n",
       "      <th>29</th>\n",
       "      <td>1351059.04</td>\n",
       "      <td>453579.37</td>\n",
       "      <td>919488.72</td>\n",
       "      <td>2316220.54</td>\n",
       "      <td>2702242.78</td>\n",
       "    </tr>\n",
       "  </tbody>\n",
       "</table>\n",
       "</div>"
      ],
      "text/plain": [
       "             0          1           2           3           4\n",
       "0     21146.44   19077.35    20401.81    19925.16    20468.03\n",
       "1     34364.62   35050.54    30124.42    37633.09    28588.37\n",
       "2     56704.94   63543.16    44912.39    54026.29    47781.46\n",
       "3     61855.34   82416.39    47945.34    52626.74    76332.35\n",
       "4     61020.90   85762.78    63243.08    68860.21    84128.86\n",
       "5     84717.35  108559.50    77064.95    89367.41    79395.24\n",
       "6     93270.40  143387.67    96673.50   119980.42   105476.55\n",
       "7    100354.48  125380.60   132329.99   122988.24   108107.87\n",
       "8    109448.85  164187.37   134010.89   126547.00   118295.03\n",
       "9    102246.73  180210.70   176394.78   187281.94   142688.16\n",
       "10   115552.81  197530.86   126939.43   243298.74   144397.51\n",
       "11   143465.95  153780.66   161249.52   261261.97   163557.57\n",
       "12   212214.27  216256.14   209289.35   357428.17   200377.69\n",
       "13   313253.54  191116.70   204075.26   352812.83   297804.06\n",
       "14   334258.75  216823.63   247181.97   428614.63   310042.47\n",
       "15   468874.04  233641.92   214907.48   526634.01   406805.15\n",
       "16   664509.12  215933.59   267344.70   641046.72   487729.17\n",
       "17   861952.73  226765.82   382330.72   497236.57   446186.18\n",
       "18   819724.14  283367.02   410259.35   553746.20   524239.56\n",
       "19  1062562.63  294800.32   538784.84   682711.47   613317.81\n",
       "20  1176677.01  180973.71   680642.73   706719.65   675497.80\n",
       "21  1331490.55  232471.26   678740.95   776523.20   874252.17\n",
       "22  1441182.07  236243.30   912784.14   960870.93  1216249.55\n",
       "23  1421474.64  293201.72  1052518.09  1112301.35  1224204.53\n",
       "24  1585656.08  294060.62  1281090.21  1115714.52  1434683.87\n",
       "25  1624916.84  289130.83   729444.46  1501325.15  1891384.59\n",
       "26  1688788.33  370293.10   861325.11  1758106.83  1532932.66\n",
       "27  1302823.27  348938.66  1059684.03  1801698.57  2253084.63\n",
       "28  1522404.74  432334.92   950195.39  1810099.80  3003979.96\n",
       "29  1351059.04  453579.37   919488.72  2316220.54  2702242.78"
      ]
     },
     "execution_count": 128,
     "metadata": {},
     "output_type": "execute_result"
    }
   ],
   "source": [
    "# 5. Sample first five streams of annual ending values\n",
    "first_five = list(range(5))\n",
    "sim[first_five]"
   ]
  },
  {
   "cell_type": "code",
   "execution_count": 129,
   "metadata": {},
   "outputs": [
    {
     "data": {
      "image/png": "[encoded data removed]",
      "text/plain": [
       "<Figure size 1080x576 with 1 Axes>"
      ]
     },
     "metadata": {
      "needs_background": "light"
     },
     "output_type": "display_data"
    }
   ],
   "source": [
    "# 6. Plot first five simulated portfolios\n",
    "ax = sim[range(10)].plot(kind='line', figsize=(15,8))\n",
    "ax.get_legend().remove()"
   ]
  },
  {
   "cell_type": "code",
   "execution_count": null,
   "metadata": {},
   "outputs": [],
   "source": []
  },
  {
   "cell_type": "code",
   "execution_count": 130,
   "metadata": {},
   "outputs": [
    {
     "name": "stdout",
     "output_type": "stream",
     "text": [
      "Count: 5000\n",
      "Mean:  $1,517,649.66\n",
      "SD:  $1,273,659.25\n",
      "Max:  $23,121,075.77\n",
      "Min:  $124,690.29\n"
     ]
    }
   ],
   "source": [
    "# 7. Generate summary statistics with numpy functions\n",
    "\n",
    "print(\"Count:\", len(sim.loc[29]))\n",
    "print(\"Mean: \", locale.currency(np.mean(sim.loc[29]),grouping=True))\n",
    "print(\"SD: \",locale.currency(np.std(sim.loc[29]),grouping=True))\n",
    "print(\"Max: \",locale.currency(np.max(sim.loc[29]), grouping=True))\n",
    "print(\"Min: \", locale.currency(np.min(sim.loc[29]), grouping=True))"
   ]
  },
  {
   "cell_type": "code",
   "execution_count": 131,
   "metadata": {},
   "outputs": [
    {
     "data": {
      "text/plain": [
       "count    5.000000e+03\n",
       "mean     1.517650e+06\n",
       "std      1.273787e+06\n",
       "min      1.246903e+05\n",
       "25%      7.432428e+05\n",
       "50%      1.196833e+06\n",
       "75%      1.849973e+06\n",
       "max      2.312108e+07\n",
       "Name: 29, dtype: float64"
      ]
     },
     "execution_count": 131,
     "metadata": {},
     "output_type": "execute_result"
    }
   ],
   "source": [
    "# 8. Generating more comprehensive summary statistics with pandas describe function\n",
    "ending_values = sim.loc[29]\n",
    "ending_values.describe()\n"
   ]
  },
  {
   "cell_type": "code",
   "execution_count": 152,
   "metadata": {},
   "outputs": [
    {
     "data": {
      "image/png": "[encoded data removed]",
      "text/plain": [
       "<Figure size 864x576 with 1 Axes>"
      ]
     },
     "metadata": {
      "needs_background": "light"
     },
     "output_type": "display_data"
    }
   ],
   "source": [
    "# 9. Get a visualization of the distribution of ending values\n",
    "\n",
    "#plots.hist(ending_values, bins=100)\n",
    "ax = ending_values.plot(kind='hist', figsize=(12,8), bins=100)\n",
    "#ax.xaxis.set_ticks(np.arange(0, 3e7, 0.2e7))"
   ]
  },
  {
   "cell_type": "code",
   "execution_count": 154,
   "metadata": {},
   "outputs": [
    {
     "data": {
      "text/plain": [
       "0.3944"
      ]
     },
     "execution_count": 154,
     "metadata": {},
     "output_type": "execute_result"
    }
   ],
   "source": [
    "# 10. Calculate probability of seeing a specific ending_value or less, \n",
    "# for example get close to the 75%ile, or $1,000,000\n",
    "\n",
    "len(ending_values[ending_values<1000000]) / len(ending_values)"
   ]
  },
  {
   "cell_type": "code",
   "execution_count": 155,
   "metadata": {},
   "outputs": [
    {
     "data": {
      "text/plain": [
       "0.172"
      ]
     },
     "execution_count": 155,
     "metadata": {},
     "output_type": "execute_result"
    }
   ],
   "source": [
    "# 11. You can't really get a point estimate, but you can get a range ending values\n",
    "\n",
    "len(ending_values[(ending_values> 800000) & (ending_values< 1100000)]) /len(ending_values)"
   ]
  },
  {
   "cell_type": "code",
   "execution_count": 135,
   "metadata": {},
   "outputs": [
    {
     "name": "stdout",
     "output_type": "stream",
     "text": [
      "       5%-ile:  $406,339.94\n",
      "      10%-ile:  $507,465.50\n",
      "      15%-ile:  $586,991.28\n",
      "      25%-ile:  $743,242.79\n",
      "      50%-ile:  $1,196,833.40\n",
      "      75%-ile:  $1,849,973.04\n",
      "      85%-ile:  $2,385,427.82\n",
      "      90%-ile:  $2,844,432.24\n",
      "      95%-ile:  $3,656,588.91\n"
     ]
    }
   ],
   "source": [
    "# 12. You can get a more comprehensive table of percentiles easily using numpy's percentile function\n",
    "\n",
    "p_tiles = np.percentile(ending_values,[5,10,15,25,50,75,85,90, 95])\n",
    "for p in range(len(p_tiles)):\n",
    "    l = [5,10,15, 25,50,75,85,90,95]\n",
    "    print( \"{}%-ile: \".format(l[p]).rjust(15),\"{}\".format(locale.currency(p_tiles[p], grouping=True)))\n"
   ]
  },
  {
   "cell_type": "code",
   "execution_count": null,
   "metadata": {},
   "outputs": [],
   "source": []
  },
  {
   "cell_type": "code",
   "execution_count": null,
   "metadata": {},
   "outputs": [],
   "source": []
  },
  {
   "cell_type": "code",
   "execution_count": null,
   "metadata": {},
   "outputs": [],
   "source": []
  },
  {
   "cell_type": "code",
   "execution_count": null,
   "metadata": {},
   "outputs": [],
   "source": []
  }
 ],
 "metadata": {
  "kernelspec": {
   "display_name": "Python 3",
   "language": "python",
   "name": "python3"
  },
  "language_info": {
   "codemirror_mode": {
    "name": "ipython",
    "version": 3
   },
   "file_extension": ".py",
   "mimetype": "text/x-python",
   "name": "python",
   "nbconvert_exporter": "python",
   "pygments_lexer": "ipython3",
   "version": "3.7.6"
  }
 },
 "nbformat": 4,
 "nbformat_minor": 2
}
