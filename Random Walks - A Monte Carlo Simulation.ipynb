{
 "cells": [
  {
   "cell_type": "markdown",
   "metadata": {},
   "source": [
    "# Using Monte Carlo Simulation to find the longest possible walk possible with a greater than 50% chance of being less than or equal to 4 steps away from home"
   ]
  },
  {
   "cell_type": "code",
   "execution_count": 1,
   "metadata": {},
   "outputs": [],
   "source": [
    "import random\n",
    "\n",
    "def random_walk(n):\n",
    "    (x, y) = (0,0)\n",
    "    for i in range(n):\n",
    "        (dx, dy) = random.choice([(0,1), (0, -1), (1,0), (-1,0)])     #Go North, South, East or West\n",
    "        x += dx\n",
    "        y += dy\n",
    "    return (x,y)                                                      #returning back the co-ordinates\n",
    "\n"
   ]
  },
  {
   "cell_type": "code",
   "execution_count": 4,
   "metadata": {},
   "outputs": [
    {
     "name": "stdout",
     "output_type": "stream",
     "text": [
      "Percentage of 1 step walks less than 4 steps from home:  100.0\n",
      "Percentage of 2 step walks less than 4 steps from home:  100.0\n",
      "Percentage of 3 step walks less than 4 steps from home:  100.0\n",
      "Percentage of 4 step walks less than 4 steps from home:  100.0\n",
      "Percentage of 5 step walks less than 4 steps from home:  87.89\n",
      "Percentage of 6 step walks less than 4 steps from home:  93.82\n",
      "Percentage of 7 step walks less than 4 steps from home:  76.59\n",
      "Percentage of 8 step walks less than 4 steps from home:  86.4\n",
      "Percentage of 9 step walks less than 4 steps from home:  67.23\n",
      "Percentage of 10 step walks less than 4 steps from home:  79.38\n",
      "Percentage of 11 step walks less than 4 steps from home:  59.78\n",
      "Percentage of 12 step walks less than 4 steps from home:  72.94\n",
      "Percentage of 13 step walks less than 4 steps from home:  53.74\n",
      "Percentage of 14 step walks less than 4 steps from home:  67.27\n",
      "Percentage of 15 step walks less than 4 steps from home:  48.75\n",
      "Percentage of 16 step walks less than 4 steps from home:  62.4\n",
      "Percentage of 17 step walks less than 4 steps from home:  44.59\n",
      "Percentage of 18 step walks less than 4 steps from home:  58.0\n",
      "Percentage of 19 step walks less than 4 steps from home:  41.09\n",
      "Percentage of 20 step walks less than 4 steps from home:  54.3\n",
      "Percentage of 21 step walks less than 4 steps from home:  38.04\n",
      "Percentage of 22 step walks less than 4 steps from home:  50.92\n",
      "Percentage of 23 step walks less than 4 steps from home:  35.41\n",
      "Percentage of 24 step walks less than 4 steps from home:  47.92\n",
      "Percentage of 25 step walks less than 4 steps from home:  33.19\n",
      "Percentage of 26 step walks less than 4 steps from home:  45.3\n",
      "Percentage of 27 step walks less than 4 steps from home:  31.18\n",
      "Percentage of 28 step walks less than 4 steps from home:  42.88\n",
      "Percentage of 29 step walks less than 4 steps from home:  29.45\n",
      "Percentage of 30 step walks less than 4 steps from home:  40.66\n"
     ]
    }
   ],
   "source": [
    "steps = 31                       #number of steps taken in one walk\n",
    "number_of_walks = 1000000        #number of walks to run the simulation on\n",
    "\n",
    "for i in range(1, steps):\n",
    "    success = 0\n",
    "    for j in range(number_of_walks):\n",
    "        distance = 0\n",
    "        walk = random_walk(i)\n",
    "        #print(walk , \"The distance from home/origin :\", abs(walk[0])+abs(walk[1]) #showing you x,y coordinates\n",
    "        distance = abs(walk[0])+abs(walk[1])\n",
    "        if distance <= 4:\n",
    "            success += 1\n",
    "    print(f'Percentage of {i}-step walks less than 4 steps from home: ', round(((float(success)/number_of_walks)*100),2))\n",
    "        "
   ]
  },
  {
   "cell_type": "code",
   "execution_count": null,
   "metadata": {},
   "outputs": [],
   "source": []
  }
 ],
 "metadata": {
  "kernelspec": {
   "display_name": "Python 3",
   "language": "python",
   "name": "python3"
  },
  "language_info": {
   "codemirror_mode": {
    "name": "ipython",
    "version": 3
   },
   "file_extension": ".py",
   "mimetype": "text/x-python",
   "name": "python",
   "nbconvert_exporter": "python",
   "pygments_lexer": "ipython3",
   "version": "3.7.6"
  }
 },
 "nbformat": 4,
 "nbformat_minor": 4
}
